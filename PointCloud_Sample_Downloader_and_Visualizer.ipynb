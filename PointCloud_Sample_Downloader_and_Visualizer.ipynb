{
 "cells": [
  {
   "cell_type": "markdown",
   "metadata": {},
   "source": [
    "## 1. Download the Point Cloud Samples from the OpenTrench3D Dataset: \n",
    "1. Click link to Kaggle below\n",
    "2. Log in to Kaggle\n",
    "3. Download the samples (see the red arrow in below image)\n",
    "4. unzip the samples folder\n",
    "\n",
    "This will download a zip file containing two point clouds (.ply) with an compressed/uncompressed size of 45.3MB/182.6MB \n",
    "\n",
    "https://www.kaggle.com/datasets/hestogpony/opentrench3d?select=OpenTrench3D_Samples\n",
    "\n",
    "![download-samples](imgs/download-samples.png \"download-samples\")"
   ]
  },
  {
   "cell_type": "markdown",
   "metadata": {},
   "source": [
    "## 2. Install Python Dependencies\n",
    "\n",
    "\n",
    "```bash\n",
    "$ pip install -r requirements.txt     # this will install jupyter notebook and Open3D\n",
    "```\n"
   ]
  },
  {
   "cell_type": "code",
   "execution_count": null,
   "metadata": {},
   "outputs": [],
   "source": [
    "import os\n",
    "\n",
    "samples_dir = \"path/to/samples/directory\"\n",
    "\n",
    "assert os.path.exists(samples_dir), \"samples_dir not found, make sure to point samples_dir to the correct path you just downloaded and unzipped\"\n",
    "assert not samples_dir.endswith(\".zip\"), \"Make sure to unzip the samples directory first\"\n",
    "assert len(os.listdir(samples_dir)) == 2, \"Expected 2 files in samples directory, make sure to follow the instructions above\""
   ]
  },
  {
   "cell_type": "markdown",
   "metadata": {},
   "source": [
    "# Visually Inspect a Point Cloud"
   ]
  },
  {
   "cell_type": "code",
   "execution_count": null,
   "metadata": {},
   "outputs": [],
   "source": [
    "point_cloud_name = \"Heating_Area_1_Site_2_part_4.ply\" # Heating_Area_1_Site_2_part_4.ply or Water_Area_3_Site_02.ply\n",
    "point_cloud_fp = os.path.join(samples_dir, point_cloud_name)\n",
    "\n",
    "assert os.path.exists(point_cloud_fp), \"Point cloud file not found. Expected to find it at: {}\".format(point_cloud_fp)\n"
   ]
  },
  {
   "cell_type": "code",
   "execution_count": null,
   "metadata": {},
   "outputs": [],
   "source": [
    "import numpy as np\n",
    "\n",
    "def load_ply_file(filename):\n",
    "    \"\"\"\n",
    "    Load a PLY file and return the points data as a numpy array.\n",
    "    \"\"\"\n",
    "    with open(filename, 'r') as file:\n",
    "        # Skip the header\n",
    "        while True:\n",
    "            line = file.readline()\n",
    "            if line.startswith(\"end_header\"):\n",
    "                break\n",
    "        \n",
    "        # Read points data\n",
    "        points_data = []\n",
    "        for line in file:\n",
    "            parts = line.split()\n",
    "            if len(parts) < 7:  # Ensure there are enough values in the line\n",
    "                continue\n",
    "            x, y, z, r, g, b, class_id = map(float, parts[:7])\n",
    "            points_data.append((float(x), float(y), float(z), int(r), int(g), int(b), int(class_id)))  # Convert to integers\n",
    "\n",
    "    return np.array(points_data)"
   ]
  },
  {
   "cell_type": "code",
   "execution_count": null,
   "metadata": {},
   "outputs": [],
   "source": [
    "import open3d as o3d\n",
    "\n",
    "points = load_ply_file(point_cloud_fp)\n",
    "rgb_points = points[:, :3].copy()\n",
    "class_points = points[:, :3].copy()\n",
    "\n",
    "# Subtract/Add half the length from the x-dimension to center the point clouds\n",
    "# Calculate the length of the point cloud (x-dimension)\n",
    "length = np.max(points[:, 0]) - np.min(points[:, 0])\n",
    "rgb_points[:, 0] -= length / 2\n",
    "class_points[:, 0] += length / 2\n",
    "\n",
    "# Set the RGB colors\n",
    "rgb_colors = points[:, 3:6] / 255  # Normalize colors to [0, 1]\n",
    "\n",
    "# Set the class colors\n",
    "# Convert the class_id to a colors\n",
    "class_id_2_class_color_dict = {\n",
    "    0: np.array([50, 205, 50]),     # Main utility\n",
    "    1: np.array([255, 223, 0]),     # Other utility\n",
    "    2: np.array([139, 69, 19]),     # Trench\n",
    "    3: np.array([85, 85, 85]),      # Inactive utility\n",
    "    4: np.array([215, 215, 215])    # Misc. \n",
    "}\n",
    "class_colors = np.array([class_id_2_class_color_dict[class_id] / 255 for class_id in points[:, 6]])\n",
    "\n",
    "# Stack the rgb points and colors points\n",
    "points = np.vstack((rgb_points, class_points))\n",
    "\n",
    "# Stack the rgb colors and class colors\n",
    "colors = np.vstack((rgb_colors, class_colors))\n",
    "\n",
    "# Add the points and colors to the point cloud\n",
    "pcd = o3d.geometry.PointCloud()\n",
    "pcd.points = o3d.utility.Vector3dVector(points)\n",
    "pcd.colors = o3d.utility.Vector3dVector(colors)\n",
    "\n",
    "# Visualize the point cloud\n",
    "o3d.visualization.draw_geometries([pcd])\n"
   ]
  }
 ],
 "metadata": {
  "kernelspec": {
   "display_name": "opentrench3D_download",
   "language": "python",
   "name": "python3"
  },
  "language_info": {
   "codemirror_mode": {
    "name": "ipython",
    "version": 3
   },
   "file_extension": ".py",
   "mimetype": "text/x-python",
   "name": "python",
   "nbconvert_exporter": "python",
   "pygments_lexer": "ipython3",
   "version": "3.8.10"
  }
 },
 "nbformat": 4,
 "nbformat_minor": 2
}
